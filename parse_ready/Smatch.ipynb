{
 "cells": [
  {
   "cell_type": "code",
   "execution_count": 1,
   "id": "6c1393d1",
   "metadata": {},
   "outputs": [],
   "source": [
    "import smatch"
   ]
  },
  {
   "cell_type": "code",
   "execution_count": 2,
   "id": "2dee2584",
   "metadata": {},
   "outputs": [],
   "source": [
    "# Open and read the files\n",
    "with open('map_cat.txt', 'r', encoding='utf-8') as file1:\n",
    "    amr1_content = file1.read()\n",
    "\n",
    "with open('map_el.txt', 'r', encoding='utf-8') as file2:\n",
    "    amr2_content = file2.read()\n",
    "\n",
    "with open('map_eng.txt', 'r', encoding='utf-8') as file2:\n",
    "    amr2_content = file2.read()\n",
    "\n"
   ]
  },
  {
   "cell_type": "code",
   "execution_count": 27,
   "id": "6fdf2f98",
   "metadata": {},
   "outputs": [
    {
     "name": "stdout",
     "output_type": "stream",
     "text": [
      "\n",
      "Unmatched parenthesis at position 232 in processing (c / cause-01:ARG0 (p / possible-01 :polarity -:ARG1 (m / move-01:ARG0 (b / boa):time (l / later))):ARG1 (s / sleep-01:ARG0 b:duration (t2 / temporal-quantity :quant 6:unit (m2 / month))):time (u / until:op1 (d / digest-01):ARG0 b)))\n",
      "Traceback (most recent call last):\n",
      "  File \"c:\\Users\\eleni\\Desktop\\smatch\\smatch.py\", line 858, in <module>\n",
      "    main(args)\n",
      "  File \"c:\\Users\\eleni\\Desktop\\smatch\\smatch.py\", line 786, in main\n",
      "    for (precision, recall, best_f_score) in score_amr_pairs(args.f[0], args.f[1],\n",
      "  File \"c:\\Users\\eleni\\Desktop\\smatch\\smatch.py\", line 743, in score_amr_pairs\n",
      "    best_match_num, test_triple_num, gold_triple_num = get_amr_match(cur_amr1, cur_amr2,\n",
      "  File \"c:\\Users\\eleni\\Desktop\\smatch\\smatch.py\", line 678, in get_amr_match\n",
      "    amr2.rename_node(prefix2)\n",
      "AttributeError: 'NoneType' object has no attribute 'rename_node'\n",
      "\n"
     ]
    }
   ],
   "source": [
    "import subprocess\n",
    "\n",
    "# Run smatch.py using subprocess, passing the paths to the AMR files\n",
    "result = subprocess.run(\n",
    "    ['python', 'smatch.py', '-f', 'map_eng.txt', 'map_el.txt'],\n",
    "    stdout=subprocess.PIPE,\n",
    "    stderr=subprocess.PIPE,\n",
    "    text=True\n",
    ")\n",
    "\n",
    "# Display the output and error (if any)\n",
    "print(result.stdout)\n",
    "print(result.stderr)\n",
    "\n"
   ]
  }
 ],
 "metadata": {
  "kernelspec": {
   "display_name": "base",
   "language": "python",
   "name": "python3"
  },
  "language_info": {
   "codemirror_mode": {
    "name": "ipython",
    "version": 3
   },
   "file_extension": ".py",
   "mimetype": "text/x-python",
   "name": "python",
   "nbconvert_exporter": "python",
   "pygments_lexer": "ipython3",
   "version": "3.9.13"
  }
 },
 "nbformat": 4,
 "nbformat_minor": 5
}
